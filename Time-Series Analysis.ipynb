{
 "cells": [
  {
   "cell_type": "code",
   "execution_count": null,
   "metadata": {},
   "outputs": [],
   "source": [
    "#Import Libraries"
   ]
  },
  {
   "cell_type": "code",
   "execution_count": 1,
   "metadata": {},
   "outputs": [
    {
     "data": {
      "text/plain": [
       "29"
      ]
     },
     "execution_count": 1,
     "metadata": {},
     "output_type": "execute_result"
    }
   ],
   "source": [
    "#Fast Fourier Transform = To look for common frequencies, peaks and interruptions\n",
    "# https://www.oreilly.com/library/view/elegant-scipy/9781491922927/ch04.html\n",
    "import numpy as np\n",
    "import pandas as pd\n",
    "import matplotlib.pyplot as plt\n",
    "from scipy import fftpack\n",
    "\n",
    "expert_data = pd.read_csv('2ex13.csv')\n",
    "expert_data.head()\n",
    "\n",
    "time = expert_data.iloc[:,0]\n",
    "expert_data.columns.get_loc('Input_Bucket RealValue')\n"
   ]
  },
  {
   "cell_type": "code",
   "execution_count": 7,
   "metadata": {},
   "outputs": [
    {
     "data": {
      "text/plain": [
       "Text(0,0.5,'Frequency Domain (Spectrum) Magnitude')"
      ]
     },
     "execution_count": 7,
     "metadata": {},
     "output_type": "execute_result"
    },
    {
     "data": {
      "image/png": "[encoded data removed]",
      "text/plain": [
       "<Figure size 432x288 with 1 Axes>"
      ]
     },
     "metadata": {},
     "output_type": "display_data"
    }
   ],
   "source": [
    "x = expert_data.iloc[:,30]/1000\n",
    "X = fftpack.fft(x)\n",
    "freqs = fftpack.fftfreq(len(x)) * (1/60)\n",
    "\n",
    "fig, ax = plt.subplots()\n",
    "\n",
    "ax.stem(freqs, np.abs(X))\n",
    "ax.set_xlabel('Frequency in Hertz [Hz]')\n",
    "ax.set_ylabel('Frequency Domain (Spectrum) Magnitude')\n",
    "#ax.set_xlim(-(1/6) / 2, (1/60) / 2)\n",
    "#ax.set_ylim(-5, 110)"
   ]
  },
  {
   "cell_type": "code",
   "execution_count": 8,
   "metadata": {},
   "outputs": [
    {
     "name": "stderr",
     "output_type": "stream",
     "text": [
      "C:\\Users\\wsjr\\AppData\\Local\\Continuum\\anaconda3\\lib\\site-packages\\numpy\\core\\numeric.py:492: ComplexWarning: Casting complex values to real discards the imaginary part\n",
      "  return array(a, dtype, copy=False, order=order)\n"
     ]
    },
    {
     "data": {
      "image/png": "[encoded data removed]",
      "text/plain": [
       "<Figure size 432x288 with 1 Axes>"
      ]
     },
     "metadata": {},
     "output_type": "display_data"
    }
   ],
   "source": [
    "ft = np.fft.fft(x)\n",
    "plt.plot(ft)\n",
    "plt.show()"
   ]
  },
  {
   "cell_type": "code",
   "execution_count": null,
   "metadata": {},
   "outputs": [],
   "source": [
    "from scipy import signal\n",
    "\n",
    "freqs, times, Sx = signal.spectrogram(audio, fs=rate, window='hanning',\n",
    "                                      nperseg=1024, noverlap=M - 100,\n",
    "                                      detrend=False, scaling='spectrum')\n",
    "\n",
    "f, ax = plt.subplots(figsize=(4.8, 2.4))\n",
    "ax.pcolormesh(times, freqs / 1000, 10 * np.log10(Sx), cmap='viridis')\n",
    "ax.set_ylabel('Frequency [kHz]')\n",
    "ax.set_xlabel('Time [s]');"
   ]
  },
  {
   "cell_type": "code",
   "execution_count": null,
   "metadata": {},
   "outputs": [],
   "source": [
    "#Stationary to check for trends, like tiredness\n",
    "# https://machinelearningmastery.com/time-series-data-stationary-python/\n",
    "import pandas as pd\n",
    "import matplotlib.pyplot as plt\n",
    "from statsmodels.tsa.stattools import adfuller\n",
    "series = pd.read_csv('', header=0, index_col=0)\n",
    "series.plot()\n",
    "plt.show()\n",
    "\n",
    "series = pd.read_csv('', header=0, index_col=0, squeeze=True)\n",
    "X = series.values\n",
    "result = adfuller(X)\n",
    "print('ADF Statistic: %f' % result[0])\n",
    "print('p-value: %f' % result[1])\n",
    "print('Critical Values:')\n",
    "for key, value in result[4].items():\n",
    "    print('\\t%s: %.3f' % (key, value))"
   ]
  },
  {
   "cell_type": "code",
   "execution_count": null,
   "metadata": {},
   "outputs": [],
   "source": [
    "#Stationary tests using graphs; if it is stationary, we will have a normal distribution that is bell-shaped\n",
    "# Checking the mean and variance across different data is useful\n",
    "#https://pythondata.com/stationary-data-tests-for-time-series-forecasting/\n",
    "\n",
    "import pandas as pd\n",
    "import numpy as np\n",
    "import matplotlib.pylab as plt\n",
    " \n",
    "plt.rcParams['figure.figsize']=(20,10)\n",
    "plt.style.use('ggplot')\n",
    "\n",
    "data = pd.read_csv('DEOK_hourly.csv')\n",
    "data['Datetime']=pd.to_datetime(data['Datetime'])\n",
    "data.set_index('Datetime', inplace=True)\n",
    "\n",
    "data['DEOK_MW'].hist()\n",
    "\n",
    "one, two, three = np.split(\n",
    "        data['DEOK_MW'].sample(\n",
    "        frac=1), [int(.25*len(data['DEOK_MW'])),\n",
    "        int(.75*len(data['DEOK_MW']))])\n",
    "\n",
    "mean1, mean2, mean3 = one.mean(), two.mean(), three.mean()\n",
    "var1, var2, var3 = one.var(), two.var(), three.var()\n",
    "\n",
    "print mean1, mean2, mean3\n",
    "print var1, var2, var3\n"
   ]
  },
  {
   "cell_type": "code",
   "execution_count": null,
   "metadata": {},
   "outputs": [],
   "source": [
    "#Data correlation with Lag plots. More corr = easier prediction\n",
    "#Autocorrelation https://www.machinelearningplus.com/time-series/time-series-analysis-python/\n",
    "from statsmodels.tsa.stattools import acf,pacf\n",
    "from statsmodels.graphics.tsaplots import plot_acf,plot_pacf\n",
    "\n",
    "df = pd.read_csv()\n",
    "\n",
    "fig,axes = plt.subplots(1,2,figsize=(16,3),dpi=100)\n",
    "plot_acf(df.value,lags=50,ax=axes[0])\n",
    "plot_pacf(df.value,lags=50,ax=axes=[1])\n",
    "\n",
    "r2 = r2_score(compare_df.actual, compare_df.predicted)"
   ]
  },
  {
   "cell_type": "code",
   "execution_count": null,
   "metadata": {},
   "outputs": [],
   "source": [
    "#Lag plots\n",
    "# https://www.machinelearningplus.com/time-series/time-series-analysis-python/\n",
    "from pandas.plotting import lag_plot\n",
    "plt.rcParams.update({'ytick.left':False,'axes.titlepad':10})\n",
    "\n",
    "ss = pd.read_csv()\n",
    "a10 = pd.read_csv()\n",
    "\n",
    "fig,axes = plt.subplots(1,4,figsize=(10,3),sharex=True,sharey=True,dpi=100)\n",
    "for i ,ax in enumerate(axes.flatten()[:4]):\n",
    "    lag_plot(ss.value,lag=i+1,ax=axmc='firebrick')\n",
    "    ax.set_title('Lag'+str(i+1))\n",
    "    \n",
    "fig.subtitle('Lag Plots')\n",
    "\n",
    "fig, axes = plt.subplots(1, 4, figsize=(10,3), sharex=True, sharey=True, dpi=100)\n",
    "for i, ax in enumerate(axes.flatten()[:4]):\n",
    "    lag_plot(a10.value, lag=i+1, ax=ax, c='firebrick')\n",
    "    ax.set_title('Lag ' + str(i+1))\n",
    "\n",
    "fig.subtitle('Lag Plots', y=1.05)    \n",
    "plt.show()\n",
    "\n",
    "#\n",
    "pd.tools.plotting.lag_plot(data['DEOK_MW'])"
   ]
  },
  {
   "cell_type": "code",
   "execution_count": null,
   "metadata": {},
   "outputs": [],
   "source": [
    "#Entropy for estimating forecastibility https://www.machinelearningplus.com/time-series/time-series-analysis-python/\n",
    "ss = pd.read_csv()\n",
    "a10 = pd.read_csv()\n",
    "rand_small = np.random.randint(0, 100, size=36)\n",
    "rand_big = np.random.randint(0, 100, size=136)\n",
    "\n",
    "def ApEn(U, m, r):\n",
    "    \"\"\"Compute Aproximate entropy\"\"\"\n",
    "    def _maxdist(x_i, x_j):\n",
    "        return max([abs(ua - va) for ua, va in zip(x_i, x_j)])\n",
    "\n",
    "    def _phi(m):\n",
    "        x = [[U[j] for j in range(i, i + m - 1 + 1)] for i in range(N - m + 1)]\n",
    "        C = [len([1 for x_j in x if _maxdist(x_i, x_j) <= r]) / (N - m + 1.0) for x_i in x]\n",
    "        return (N - m + 1.0)**(-1) * sum(np.log(C))\n",
    "\n",
    "    N = len(U)\n",
    "    return abs(_phi(m+1) - _phi(m))\n",
    "\n",
    "print(ApEn(ss.value, m=2, r=0.2*np.std(ss.value)))     # 0.651\n",
    "print(ApEn(a10.value, m=2, r=0.2*np.std(a10.value)))   # 0.537\n",
    "print(ApEn(rand_small, m=2, r=0.2*np.std(rand_small))) # 0.143\n",
    "print(ApEn(rand_big, m=2, r=0.2*np.std(rand_big)))     # 0.716\n"
   ]
  },
  {
   "cell_type": "code",
   "execution_count": null,
   "metadata": {},
   "outputs": [],
   "source": [
    "#Sample entropy https://www.machinelearningplus.com/time-series/time-series-analysis-python/\n",
    "def SampEn(U, m, r):\n",
    "    \"\"\"Compute Sample entropy\"\"\"\n",
    "    def _maxdist(x_i, x_j):\n",
    "        return max([abs(ua - va) for ua, va in zip(x_i, x_j)])\n",
    "\n",
    "    def _phi(m):\n",
    "        x = [[U[j] for j in range(i, i + m - 1 + 1)] for i in range(N - m + 1)]\n",
    "        C = [len([1 for j in range(len(x)) if i != j and _maxdist(x[i], x[j]) <= r]) for i in range(len(x))]\n",
    "        return sum(C)\n",
    "\n",
    "    N = len(U)\n",
    "    return -np.log(_phi(m+1) / _phi(m))\n",
    "\n",
    "print(SampEn(ss.value, m=2, r=0.2*np.std(ss.value)))      # 0.78\n",
    "print(SampEn(a10.value, m=2, r=0.2*np.std(a10.value)))    # 0.41\n",
    "print(SampEn(rand_small, m=2, r=0.2*np.std(rand_small)))  # 1.79\n",
    "print(SampEn(rand_big, m=2, r=0.2*np.std(rand_big)))      # 2.42"
   ]
  },
  {
   "cell_type": "code",
   "execution_count": null,
   "metadata": {},
   "outputs": [],
   "source": [
    "#Smoothing for trends; butterworth, averaging, Lowess\n",
    "#https://www.machinelearningplus.com/time-series/time-series-analysis-python/ for LOWESS\n",
    "from statsmodels.nonparametric.smoothers_lowess import lowess\n",
    "plt.rcParams.update({'xtick.bottom' : False, 'axes.titlepad':5})\n",
    "\n",
    "# Import\n",
    "df_orig = pd.read_csv('', parse_dates=['date'], index_col='date')\n",
    "\n",
    "# 1. Moving Average\n",
    "df_ma = df_orig.value.rolling(3, center=True, closed='both').mean()\n",
    "\n",
    "# 2. Loess Smoothing (5% and 15%)\n",
    "df_loess_5 = pd.DataFrame(lowess(df_orig.value, np.arange(len(df_orig.value)), frac=0.05)[:, 1], index=df_orig.index, columns=['value'])\n",
    "df_loess_15 = pd.DataFrame(lowess(df_orig.value, np.arange(len(df_orig.value)), frac=0.15)[:, 1], index=df_orig.index, columns=['value'])\n",
    "\n",
    "# Plot\n",
    "fig, axes = plt.subplots(4,1, figsize=(7, 7), sharex=True, dpi=120)\n",
    "df_orig['value'].plot(ax=axes[0], color='k', title='Original Series')\n",
    "df_loess_5['value'].plot(ax=axes[1], title='Loess Smoothed 5%')\n",
    "df_loess_15['value'].plot(ax=axes[2], title='Loess Smoothed 15%')\n",
    "df_ma.plot(ax=axes[3], title='Moving Average (3)')\n",
    "fig.suptitle('How to Smoothen a Time Series', y=0.95, fontsize=14)\n",
    "plt.show()"
   ]
  },
  {
   "cell_type": "code",
   "execution_count": null,
   "metadata": {},
   "outputs": [],
   "source": [
    "#Moving average\n",
    "import pandas as pd\n",
    "data = pd.read_csv('')\n",
    "df = pd.DataFrame(data)\n",
    "df.rolling(window=2).mean()\n"
   ]
  },
  {
   "cell_type": "code",
   "execution_count": null,
   "metadata": {},
   "outputs": [],
   "source": [
    "#Moving Average https://www.learndatasci.com/tutorials/python-finance-part-3-moving-average-trading-strategy/\n",
    "\n",
    "import pandas as pd\n",
    "import numpy as np\n",
    "import matplotlib.pyplot as plt\n",
    "import matplotlib.dates as mdates\n",
    "%matplotlib inline\n",
    "import seaborn as sns\n",
    "\n",
    "sns.set(style='darkgrid', context='talk', palette='Dark2')\n",
    "data = pd.read_pickle('')\n",
    "data.head(10)\n",
    "\n",
    "short_rolling = data.rolling(window=20).mean()\n",
    "short_rolling.head(20)\n",
    "\n",
    "long_rolling = data.rolling(window=100).mean()\n",
    "long_rolling.tail()\n",
    "\n",
    "start_date = '2015-01-01'\n",
    "end_date = '2016-12-31'\n",
    "\n",
    "fig, ax = plt.subplots(figsize=(16,9))\n",
    "\n",
    "ax.plot(data.loc[start_date:end_date, :].index, data.loc[start_date:end_date, 'MSFT'], label='Price')\n",
    "ax.plot(long_rolling.loc[start_date:end_date, :].index, long_rolling.loc[start_date:end_date, 'MSFT'], label = '100-days SMA')\n",
    "ax.plot(short_rolling.loc[start_date:end_date, :].index, short_rolling.loc[start_date:end_date, 'MSFT'], label = '20-days SMA')\n",
    "\n",
    "ax.legend(loc='best')\n",
    "ax.set_ylabel('Price in $')\n"
   ]
  },
  {
   "cell_type": "code",
   "execution_count": null,
   "metadata": {},
   "outputs": [],
   "source": [
    "#Exponential Moving Average\n",
    "ema_short = data.ewm(span=20, adjust=False).mean()\n",
    "\n",
    "fig, ax = plt.subplots(figsize=(15,9))\n",
    "\n",
    "ax.plot(data.loc[start_date:end_date, :].index, data.loc[start_date:end_date, 'MSFT'], label='Price')\n",
    "ax.plot(ema_short.loc[start_date:end_date, :].index, ema_short.loc[start_date:end_date, 'MSFT'], label = 'Span 20-days EMA')\n",
    "ax.plot(short_rolling.loc[start_date:end_date, :].index, short_rolling.loc[start_date:end_date, 'MSFT'], label = '20-days SMA')\n",
    "\n",
    "ax.legend(loc='best')\n",
    "ax.set_ylabel('Price in $')\n",
    "ax.xaxis.set_major_formatter(my_year_month_fmt)"
   ]
  },
  {
   "cell_type": "code",
   "execution_count": null,
   "metadata": {},
   "outputs": [],
   "source": [
    "#Butterworth https://docs.scipy.org/doc/scipy/reference/generated/scipy.signal.butter.html\n",
    "from scipy import signal\n",
    "import matplotlib.pyplot as plt\n",
    "\n",
    "b, a = signal.butter(4, 100, 'low', analog=True)\n",
    "w, h = signal.freqs(b, a)\n",
    "plt.plot(w, 20 * np.log10(abs(h)))\n",
    "plt.xscale('log')\n",
    "plt.title('Butterworth filter frequency response')\n",
    "plt.xlabel('Frequency [radians / second]')\n",
    "plt.ylabel('Amplitude [dB]')\n",
    "plt.margins(0, 0.1)\n",
    "plt.grid(which='both', axis='both')\n",
    "plt.axvline(100, color='green') # cutoff frequency\n",
    "plt.show()\n",
    "\n",
    "t = np.linspace(0, 1, 1000, False)  # 1 second\n",
    "sig = np.sin(2*np.pi*10*t) + np.sin(2*np.pi*20*t)\n",
    "fig, (ax1, ax2) = plt.subplots(2, 1, sharex=True)\n",
    "ax1.plot(t, sig)\n",
    "ax1.set_title('10 Hz and 20 Hz sinusoids')\n",
    "ax1.axis([0, 1, -2, 2])\n",
    "\n",
    "sos = signal.butter(10, 15, 'hp', fs=1000, output='sos')\n",
    "filtered = signal.sosfilt(sos, sig)\n",
    "ax2.plot(t, filtered)\n",
    "ax2.set_title('After 15 Hz high-pass filter')\n",
    "ax2.axis([0, 1, -2, 2])\n",
    "ax2.set_xlabel('Time [seconds]')\n",
    "plt.tight_layout()\n",
    "plt.show()"
   ]
  },
  {
   "cell_type": "code",
   "execution_count": 5,
   "metadata": {},
   "outputs": [
    {
     "ename": "ValueError",
     "evalue": "Insufficient observations. Maximum allowable lag is -1",
     "output_type": "error",
     "traceback": [
      "\u001b[1;31m---------------------------------------------------------------------------\u001b[0m",
      "\u001b[1;31mValueError\u001b[0m                                Traceback (most recent call last)",
      "\u001b[1;32m<ipython-input-5-764069ca8ea0>\u001b[0m in \u001b[0;36m<module>\u001b[1;34m()\u001b[0m\n\u001b[0;32m      6\u001b[0m \u001b[0mdf1\u001b[0m \u001b[1;33m=\u001b[0m \u001b[0mdf\u001b[0m\u001b[1;33m.\u001b[0m\u001b[0miloc\u001b[0m\u001b[1;33m[\u001b[0m\u001b[1;33m:\u001b[0m\u001b[1;33m,\u001b[0m\u001b[1;36m0\u001b[0m\u001b[1;33m]\u001b[0m\u001b[1;33m\u001b[0m\u001b[0m\n\u001b[0;32m      7\u001b[0m \u001b[0mdf2\u001b[0m \u001b[1;33m=\u001b[0m \u001b[0mdf\u001b[0m\u001b[1;33m.\u001b[0m\u001b[0miloc\u001b[0m\u001b[1;33m[\u001b[0m\u001b[1;33m:\u001b[0m\u001b[1;33m,\u001b[0m\u001b[1;36m26\u001b[0m\u001b[1;33m]\u001b[0m\u001b[1;33m\u001b[0m\u001b[0m\n\u001b[1;32m----> 8\u001b[1;33m \u001b[0mgrangercausalitytests\u001b[0m\u001b[1;33m(\u001b[0m\u001b[1;33m[\u001b[0m\u001b[0mdf1\u001b[0m\u001b[1;33m,\u001b[0m\u001b[0mdf2\u001b[0m\u001b[1;33m]\u001b[0m\u001b[1;33m,\u001b[0m\u001b[0mmaxlag\u001b[0m\u001b[1;33m=\u001b[0m\u001b[1;36m2\u001b[0m\u001b[1;33m)\u001b[0m\u001b[1;33m\u001b[0m\u001b[0m\n\u001b[0m",
      "\u001b[1;32m~\\AppData\\Local\\Continuum\\anaconda3\\lib\\site-packages\\statsmodels\\tsa\\stattools.py\u001b[0m in \u001b[0;36mgrangercausalitytests\u001b[1;34m(x, maxlag, addconst, verbose)\u001b[0m\n\u001b[0;32m   1240\u001b[0m         raise ValueError(\"Insufficient observations. Maximum allowable \"\n\u001b[0;32m   1241\u001b[0m                          \"lag is {0}\".format(int((x.shape[0] - int(addconst)) /\n\u001b[1;32m-> 1242\u001b[1;33m                                                  3) - 1))\n\u001b[0m\u001b[0;32m   1243\u001b[0m \u001b[1;33m\u001b[0m\u001b[0m\n\u001b[0;32m   1244\u001b[0m     \u001b[0mresli\u001b[0m \u001b[1;33m=\u001b[0m \u001b[1;33m{\u001b[0m\u001b[1;33m}\u001b[0m\u001b[1;33m\u001b[0m\u001b[0m\n",
      "\u001b[1;31mValueError\u001b[0m: Insufficient observations. Maximum allowable lag is -1"
     ]
    }
   ],
   "source": [
    "#Granger Causality to see if one time series can predict another \n",
    "# https://www.machinelearningplus.com/time-series/time-series-analysis-python/\n",
    "import pandas as pd\n",
    "from statsmodels.tsa.stattools import grangercausalitytests\n",
    "df = pd.read_csv('2ex1.csv')\n",
    "df1 = df.iloc[:,0]\n",
    "df2 = df.iloc[:,26]\n",
    "grangercausalitytests([df1,df2],maxlag=2)"
   ]
  },
  {
   "cell_type": "code",
   "execution_count": null,
   "metadata": {},
   "outputs": [],
   "source": []
  }
 ],
 "metadata": {
  "kernelspec": {
   "display_name": "Python 3",
   "language": "python",
   "name": "python3"
  },
  "language_info": {
   "codemirror_mode": {
    "name": "ipython",
    "version": 3
   },
   "file_extension": ".py",
   "mimetype": "text/x-python",
   "name": "python",
   "nbconvert_exporter": "python",
   "pygments_lexer": "ipython3",
   "version": "3.6.4"
  }
 },
 "nbformat": 4,
 "nbformat_minor": 2
}
